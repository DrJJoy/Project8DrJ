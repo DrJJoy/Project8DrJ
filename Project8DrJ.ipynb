{
 "cells": [
  {
   "cell_type": "code",
   "execution_count": 1,
   "id": "7c6843cb",
   "metadata": {},
   "outputs": [],
   "source": [
    "import requests\n",
    "import pandas as pd\n",
    "\n",
    "with open(f'api.key', 'r') as k:\n",
    "    api_key = k.readline().strip()\n",
    "\n",
    "url = f'https://www.omdbapi.com/?apikey={api_key}&i='\n",
    "movie_content = []\n",
    "with open(f'oscar_winners.csv', 'r') as a:\n",
    "    for index, line in enumerate(a):\n",
    "        if index == 0:\n",
    "            continue\n",
    "        omdb = line.strip().split(',')[1]\n",
    "        url_to_fetch = url + omdb\n",
    "        r = requests.get(url_to_fetch)\n",
    "        movie_content.append(r.json())\n",
    "\n",
    "clean_data =[]\n",
    "for line in movie_content:\n",
    "    title = line['Title']\n",
    "    runtime_mins = int(line['Runtime'].split(' ')[0])\n",
    "    genre = line['Genre']\n",
    "    wins_nominations = line['Awards'].split('.')[1]\n",
    "    wins_nominations = wins_nominations.split('&')\n",
    "    wins = int(wins_nominations[0].strip().split(' ')[0])\n",
    "    nominations = int(wins_nominations[1].strip().split(' ')[0])\n",
    "    box_office_dollars = int(line['BoxOffice'][1:].replace(',',\"\"))\n",
    "    clean_data.append([title, runtime_mins, genre, wins, nominations, box_office_dollars])\n",
    "\n",
    "\n",
    "movies = pd.DataFrame(clean_data)\n"
   ]
  },
  {
   "cell_type": "code",
   "execution_count": 3,
   "id": "d0663828",
   "metadata": {},
   "outputs": [
    {
     "name": "stdout",
     "output_type": "stream",
     "text": [
      "<class 'pandas.core.frame.DataFrame'>\n",
      "RangeIndex: 10 entries, 0 to 9\n",
      "Data columns (total 6 columns):\n",
      " #   Column  Non-Null Count  Dtype \n",
      "---  ------  --------------  ----- \n",
      " 0   0       10 non-null     object\n",
      " 1   1       10 non-null     int64 \n",
      " 2   2       10 non-null     object\n",
      " 3   3       10 non-null     int64 \n",
      " 4   4       10 non-null     int64 \n",
      " 5   5       10 non-null     int64 \n",
      "dtypes: int64(4), object(2)\n",
      "memory usage: 608.0+ bytes\n"
     ]
    }
   ],
   "source": [
    "movies.info()"
   ]
  },
  {
   "cell_type": "code",
   "execution_count": 2,
   "id": "e4dc3260",
   "metadata": {},
   "outputs": [
    {
     "data": {
      "text/html": [
       "<div>\n",
       "<style scoped>\n",
       "    .dataframe tbody tr th:only-of-type {\n",
       "        vertical-align: middle;\n",
       "    }\n",
       "\n",
       "    .dataframe tbody tr th {\n",
       "        vertical-align: top;\n",
       "    }\n",
       "\n",
       "    .dataframe thead th {\n",
       "        text-align: right;\n",
       "    }\n",
       "</style>\n",
       "<table border=\"1\" class=\"dataframe\">\n",
       "  <thead>\n",
       "    <tr style=\"text-align: right;\">\n",
       "      <th></th>\n",
       "      <th>Title</th>\n",
       "      <th>Runtime</th>\n",
       "      <th>Genre</th>\n",
       "      <th>Award Wins</th>\n",
       "      <th>Award Nominations</th>\n",
       "      <th>Box Office</th>\n",
       "    </tr>\n",
       "  </thead>\n",
       "  <tbody>\n",
       "    <tr>\n",
       "      <th>0</th>\n",
       "      <td>Parasite</td>\n",
       "      <td>132</td>\n",
       "      <td>Comedy, Drama, Thriller</td>\n",
       "      <td>308</td>\n",
       "      <td>271</td>\n",
       "      <td>53369749</td>\n",
       "    </tr>\n",
       "    <tr>\n",
       "      <th>1</th>\n",
       "      <td>Green Book</td>\n",
       "      <td>130</td>\n",
       "      <td>Biography, Comedy, Drama</td>\n",
       "      <td>59</td>\n",
       "      <td>124</td>\n",
       "      <td>85080171</td>\n",
       "    </tr>\n",
       "    <tr>\n",
       "      <th>2</th>\n",
       "      <td>The Shape of Water</td>\n",
       "      <td>123</td>\n",
       "      <td>Drama, Fantasy, Romance</td>\n",
       "      <td>138</td>\n",
       "      <td>358</td>\n",
       "      <td>63859435</td>\n",
       "    </tr>\n",
       "    <tr>\n",
       "      <th>3</th>\n",
       "      <td>Moonlight</td>\n",
       "      <td>111</td>\n",
       "      <td>Drama</td>\n",
       "      <td>228</td>\n",
       "      <td>296</td>\n",
       "      <td>27854932</td>\n",
       "    </tr>\n",
       "    <tr>\n",
       "      <th>4</th>\n",
       "      <td>Spotlight</td>\n",
       "      <td>129</td>\n",
       "      <td>Biography, Crime, Drama</td>\n",
       "      <td>124</td>\n",
       "      <td>143</td>\n",
       "      <td>45055776</td>\n",
       "    </tr>\n",
       "    <tr>\n",
       "      <th>5</th>\n",
       "      <td>Birdman or (The Unexpected Virtue of Ignorance)</td>\n",
       "      <td>119</td>\n",
       "      <td>Comedy, Drama</td>\n",
       "      <td>193</td>\n",
       "      <td>292</td>\n",
       "      <td>42340598</td>\n",
       "    </tr>\n",
       "    <tr>\n",
       "      <th>6</th>\n",
       "      <td>12 Years a Slave</td>\n",
       "      <td>134</td>\n",
       "      <td>Biography, Drama, History</td>\n",
       "      <td>242</td>\n",
       "      <td>336</td>\n",
       "      <td>56671993</td>\n",
       "    </tr>\n",
       "    <tr>\n",
       "      <th>7</th>\n",
       "      <td>Argo</td>\n",
       "      <td>120</td>\n",
       "      <td>Biography, Drama, Thriller</td>\n",
       "      <td>94</td>\n",
       "      <td>156</td>\n",
       "      <td>136025503</td>\n",
       "    </tr>\n",
       "    <tr>\n",
       "      <th>8</th>\n",
       "      <td>The Artist</td>\n",
       "      <td>100</td>\n",
       "      <td>Comedy, Drama, Romance</td>\n",
       "      <td>162</td>\n",
       "      <td>204</td>\n",
       "      <td>44671682</td>\n",
       "    </tr>\n",
       "    <tr>\n",
       "      <th>9</th>\n",
       "      <td>The King's Speech</td>\n",
       "      <td>118</td>\n",
       "      <td>Biography, Drama, History</td>\n",
       "      <td>108</td>\n",
       "      <td>206</td>\n",
       "      <td>138797449</td>\n",
       "    </tr>\n",
       "  </tbody>\n",
       "</table>\n",
       "</div>"
      ],
      "text/plain": [
       "                                             Title  Runtime  \\\n",
       "0                                         Parasite      132   \n",
       "1                                       Green Book      130   \n",
       "2                               The Shape of Water      123   \n",
       "3                                        Moonlight      111   \n",
       "4                                        Spotlight      129   \n",
       "5  Birdman or (The Unexpected Virtue of Ignorance)      119   \n",
       "6                                 12 Years a Slave      134   \n",
       "7                                             Argo      120   \n",
       "8                                       The Artist      100   \n",
       "9                                The King's Speech      118   \n",
       "\n",
       "                        Genre  Award Wins  Award Nominations  Box Office  \n",
       "0     Comedy, Drama, Thriller         308                271    53369749  \n",
       "1    Biography, Comedy, Drama          59                124    85080171  \n",
       "2     Drama, Fantasy, Romance         138                358    63859435  \n",
       "3                       Drama         228                296    27854932  \n",
       "4     Biography, Crime, Drama         124                143    45055776  \n",
       "5               Comedy, Drama         193                292    42340598  \n",
       "6   Biography, Drama, History         242                336    56671993  \n",
       "7  Biography, Drama, Thriller          94                156   136025503  \n",
       "8      Comedy, Drama, Romance         162                204    44671682  \n",
       "9   Biography, Drama, History         108                206   138797449  "
      ]
     },
     "execution_count": 2,
     "metadata": {},
     "output_type": "execute_result"
    }
   ],
   "source": [
    "movies.rename(columns={0:'Title', 1: 'Runtime', 2: 'Genre', 3: 'Award Wins', 4: 'Award Nominations', 5: 'Box Office'})\n"
   ]
  },
  {
   "cell_type": "markdown",
   "id": "3871b000",
   "metadata": {},
   "source": [
    "movies.to_csv(r'C:/Users/bbsj4/Desktop/Data Analyst Cert Treehouse/UNIT_8/Project8/movie.csv', index=True)"
   ]
  },
  {
   "cell_type": "code",
   "execution_count": 4,
   "id": "8d85be8b",
   "metadata": {},
   "outputs": [],
   "source": [
    "import pandas as pd\n",
    "import matplotlib.pyplot as plt\n",
    "import seaborn as sns"
   ]
  },
  {
   "cell_type": "code",
   "execution_count": 5,
   "id": "e6fe078b",
   "metadata": {},
   "outputs": [],
   "source": [
    "data = pd.read_csv(r'movie.csv')"
   ]
  },
  {
   "cell_type": "markdown",
   "id": "cf06e833",
   "metadata": {},
   "source": [
    "a.\t(Graph) What was the runtime for each movie? \n",
    "b.\tWhat movie had the longest runtime? \n",
    "c.\tIs there any relationship between the length of the movie (runtime) and the number of awards a movie won? \n",
    "d.\t(Graph) How many awards and nominations did each movie receive? \n"
   ]
  },
  {
   "cell_type": "code",
   "execution_count": 7,
   "id": "59f6c2ef",
   "metadata": {},
   "outputs": [
    {
     "data": {
      "text/plain": [
       "<BarContainer object of 10 artists>"
      ]
     },
     "execution_count": 7,
     "metadata": {},
     "output_type": "execute_result"
    },
    {
     "data": {
      "image/png": "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\n",
      "text/plain": [
       "<Figure size 432x288 with 1 Axes>"
      ]
     },
     "metadata": {
      "needs_background": "light"
     },
     "output_type": "display_data"
    }
   ],
   "source": [
    "plt.xlabel('Movie Title')\n",
    "plt.ylabel('Runtime')\n",
    "plt.title('Movie Runtimes', fontsize=16)\n",
    "plt.xticks(rotation=90)\n",
    "\n",
    "plt.bar(data[\"Title\"], data[\"Runtime\"])"
   ]
  },
  {
   "cell_type": "code",
   "execution_count": 46,
   "id": "38bdfd46",
   "metadata": {},
   "outputs": [
    {
     "data": {
      "text/html": [
       "<div>\n",
       "<style scoped>\n",
       "    .dataframe tbody tr th:only-of-type {\n",
       "        vertical-align: middle;\n",
       "    }\n",
       "\n",
       "    .dataframe tbody tr th {\n",
       "        vertical-align: top;\n",
       "    }\n",
       "\n",
       "    .dataframe thead th {\n",
       "        text-align: right;\n",
       "    }\n",
       "</style>\n",
       "<table border=\"1\" class=\"dataframe\">\n",
       "  <thead>\n",
       "    <tr style=\"text-align: right;\">\n",
       "      <th></th>\n",
       "      <th>Unnamed: 0</th>\n",
       "      <th>Title</th>\n",
       "      <th>Runtime</th>\n",
       "      <th>Genre</th>\n",
       "      <th>Wins</th>\n",
       "      <th>Nominations</th>\n",
       "      <th>Box Office</th>\n",
       "    </tr>\n",
       "  </thead>\n",
       "  <tbody>\n",
       "    <tr>\n",
       "      <th>6</th>\n",
       "      <td>6</td>\n",
       "      <td>12 Years a Slave</td>\n",
       "      <td>134</td>\n",
       "      <td>Biography, Drama, History</td>\n",
       "      <td>242</td>\n",
       "      <td>336</td>\n",
       "      <td>56671993</td>\n",
       "    </tr>\n",
       "    <tr>\n",
       "      <th>0</th>\n",
       "      <td>0</td>\n",
       "      <td>Parasite</td>\n",
       "      <td>132</td>\n",
       "      <td>Comedy, Drama, Thriller</td>\n",
       "      <td>308</td>\n",
       "      <td>271</td>\n",
       "      <td>53369749</td>\n",
       "    </tr>\n",
       "    <tr>\n",
       "      <th>1</th>\n",
       "      <td>1</td>\n",
       "      <td>Green Book</td>\n",
       "      <td>130</td>\n",
       "      <td>Biography, Comedy, Drama</td>\n",
       "      <td>59</td>\n",
       "      <td>124</td>\n",
       "      <td>85080171</td>\n",
       "    </tr>\n",
       "    <tr>\n",
       "      <th>4</th>\n",
       "      <td>4</td>\n",
       "      <td>Spotlight</td>\n",
       "      <td>129</td>\n",
       "      <td>Biography, Crime, Drama</td>\n",
       "      <td>124</td>\n",
       "      <td>143</td>\n",
       "      <td>45055776</td>\n",
       "    </tr>\n",
       "    <tr>\n",
       "      <th>2</th>\n",
       "      <td>2</td>\n",
       "      <td>The Shape of Water</td>\n",
       "      <td>123</td>\n",
       "      <td>Drama, Fantasy, Romance</td>\n",
       "      <td>138</td>\n",
       "      <td>358</td>\n",
       "      <td>63859435</td>\n",
       "    </tr>\n",
       "  </tbody>\n",
       "</table>\n",
       "</div>"
      ],
      "text/plain": [
       "   Unnamed: 0               Title  Runtime                      Genre  Wins  \\\n",
       "6           6    12 Years a Slave      134  Biography, Drama, History   242   \n",
       "0           0            Parasite      132    Comedy, Drama, Thriller   308   \n",
       "1           1          Green Book      130   Biography, Comedy, Drama    59   \n",
       "4           4           Spotlight      129    Biography, Crime, Drama   124   \n",
       "2           2  The Shape of Water      123    Drama, Fantasy, Romance   138   \n",
       "\n",
       "   Nominations  Box Office  \n",
       "6          336    56671993  \n",
       "0          271    53369749  \n",
       "1          124    85080171  \n",
       "4          143    45055776  \n",
       "2          358    63859435  "
      ]
     },
     "execution_count": 46,
     "metadata": {},
     "output_type": "execute_result"
    }
   ],
   "source": [
    "long = data.sort_values(\n",
    "...     by=\"Runtime\",\n",
    "...     ascending=False\n",
    "... )\n",
    "long.head()"
   ]
  },
  {
   "cell_type": "markdown",
   "id": "36a7bb94",
   "metadata": {},
   "source": [
    "To answer questions 1 and 2:\n",
    "  I created a bar chart with the runtime for each movie. \n",
    "  Then, I sorted the table by Runtime to find the longest runtime. \n",
    "  The longest runtime is 12 Years a Slave with a runtime of 134 mins. "
   ]
  },
  {
   "cell_type": "code",
   "execution_count": 8,
   "id": "07250b2d",
   "metadata": {},
   "outputs": [
    {
     "data": {
      "text/plain": [
       "<AxesSubplot:xlabel='Runtime', ylabel='Wins'>"
      ]
     },
     "execution_count": 8,
     "metadata": {},
     "output_type": "execute_result"
    },
    {
     "data": {
      "image/png": "iVBORw0KGgoAAAANSUhEUgAAAYgAAAEGCAYAAAB/+QKOAAAAOXRFWHRTb2Z0d2FyZQBNYXRwbG90bGliIHZlcnNpb24zLjQuMywgaHR0cHM6Ly9tYXRwbG90bGliLm9yZy/MnkTPAAAACXBIWXMAAAsTAAALEwEAmpwYAAAWN0lEQVR4nO3df4xdZ33n8ff3JlMP8o+WOOMfOIaJkSnEqAzd2ai7UXbp0hZvRGugi9eIVt42UrqrsIY1VeuAtK12FSnQ1ggqUWRKVGsFhFGhS7qlIWlUCrTZpGM6TeKEFJMMxNiZGRyoJ27HO/b97h/3jHNtn/ll59wfvu+XdHXPfe5z7nz9yPZnznnOfU5kJpIkXajW7gIkSZ3JgJAklTIgJEmlDAhJUikDQpJU6up2F3A5rr322hwcHGx3GZLUVQ4dOvT9zBxYrF9XB8Tg4CCjo6PtLkOSukpEfGcp/TzFJEkqZUBIkkoZEJKkUgaEJKmUASFJKtXVVzFJUreo15PxE6eYODnD+jX9DK5dSa0W7S5rQQaEJFWsXk/uO/wce0fGmJmt099XY//OIbZv29DRIeEpJkmq2PiJU+fCAWBmts7ekTHGT5xqc2ULMyAkqWITJ2fOhcOcmdk6k9MzbapoaQwISarY+jX99Ped/99tf1+Ndav721TR0hgQklSxwbUr2b9z6FxIzM1BDK5d2ebKFlbZJHVE9ANfBVYUP+ePM/O3IuIa4HPAIDAO7MzMHxT73AHcCpwF9mTml6uqT5JapVYLtm/bwGv33Mzk9AzrVnsV02ng32XmCxHRB3w9Iv4ceAfwYGbeFRH7gH3Ab0bEDcAuYBvwCuAvIuI1mXm2wholqSVqtWDLwCq2DKxqdylLVtkppmx4oXjZVzwS2AEcLNoPAm8rtncA92Tm6cx8BjgC3FhVfZKkhVU6BxERV0XEGDAJPJCZDwPrM/M4QPG8rui+CXi2afejRZskqQ0qDYjMPJuZQ8B1wI0R8foFupedjMuLOkXcFhGjETE6NTX1ElUqSbpQS65iyswfAl8BtgMTEbERoHieLLodBTY37XYdcKzksw5k5nBmDg8MLHpDJEnSJaosICJiICJ+rNh+GfAzwDeBe4HdRbfdwBeL7XuBXRGxIiKuB7YCj1RVnyRpYVVexbQROBgRV9EIopHM/D8R8RAwEhG3At8F3gmQmYcjYgR4AjgD3O4VTJLUPpF50Wn+rjE8PJzek1qSliciDmXm8GL9/Ca1JKmUASFJKmVASJJKGRCSpFIGhCSplAEhSSplQEiSShkQkqRSBoQkqZQBIUkqZUBIkkoZEJKkUgaEJKmUASFJKmVASJJKGRCSpFIGhCSplAEhSSplQEiSShkQkqRSBoQkqZQBIUkqZUBIkkoZEJKkUgaEJKmUASFJKmVASJJKGRCSpFIGhCSplAEhSSplQEiSSlUWEBGxOSL+MiKejIjDEfHeov23I+J7ETFWPG5p2ueOiDgSEU9FxFuqqk2StLirK/zsM8D7M/MbEbEaOBQRDxTvfSQzf7e5c0TcAOwCtgGvAP4iIl6TmWcrrFGSNI/KjiAy83hmfqPYngaeBDYtsMsO4J7MPJ2ZzwBHgBurqk+StLCWzEFExCDwRuDhouk9EfFoRNwdES8v2jYBzzbtdpSSQImI2yJiNCJGp6amqixbknpa5QEREauAzwPvy8yTwB8ArwaGgOPA7811Ldk9L2rIPJCZw5k5PDAwUE3RkqRqAyIi+miEw6cz8wsAmTmRmWczsw58khdPIx0FNjftfh1wrMr6JEnzq/IqpgA+BTyZmfub2jc2dXs78HixfS+wKyJWRMT1wFbgkarqkyQtrMqrmG4Cfhl4LCLGirYPAO+KiCEap4/GgV8DyMzDETECPEHjCqjbvYJJks5XryfjJ04xcXKG9Wv6GVy7klqt7Az95assIDLz65TPK3xpgX3uBO6sqiZJ6mb1enLf4efYOzLGzGyd/r4a+3cOsX3bhkpCwm9SS1KXGD9x6lw4AMzM1tk7Msb4iVOV/DwDQpK6xMTJmXPhMGdmts7k9EwlP8+AkKQusX5NP/195/+33d9XY93q/kp+ngEhSV1icO1K9u8cOhcSc3MQg2tXVvLzqryKSZL0EqrVgu3bNvDaPTczOT3DutVdehWTJOmlV6sFWwZWsWVgVfU/q/KfIEnqSgaEJKmUASFJKuUchNqmlUsGSFo+A0Jt0eolAyQtn6eY1BatXjJA0vIZEGqLVi8ZIGn5DAi1RauXDJC0fAaE2qLVSwZIWj4nqdUWrV4yQNLyGRBqm1YuGSBp+TzFJEkqZUBIkkoZEJKkUgaEJKmUASFJKmVASJJKGRCSpFIGhCSplAEhSSplQEiSShkQkqRSBoQkqZQBIUkqZUBIkkpVFhARsTki/jIinoyIwxHx3qL9moh4ICK+VTy/vGmfOyLiSEQ8FRFvqao2SdLiqjyCOAO8PzNfB/wUcHtE3ADsAx7MzK3Ag8Vrivd2AduA7cDHI+KqCuuTJC2gsoDIzOOZ+Y1iexp4EtgE7AAOFt0OAm8rtncA92Tm6cx8BjgC3FhVfZKkhbVkDiIiBoE3Ag8D6zPzODRCBFhXdNsEPNu029Gi7cLPui0iRiNidGpqqtK6JamXVR4QEbEK+Dzwvsw8uVDXkra8qCHzQGYOZ+bwwMDAS1WmJOkClQZERPTRCIdPZ+YXiuaJiNhYvL8RmCzajwKbm3a/DjhWZX2SpPlVeRVTAJ8CnszM/U1v3QvsLrZ3A19sat8VESsi4npgK/BIVfVJna5eT56eeoGHvv19np56gXr9ogNqqVJXL6VTRNwEjGXmqYj4JeAngY9m5ncW2O0m4JeBxyJirGj7AHAXMBIRtwLfBd4JkJmHI2IEeILGFVC3Z+bZS/gzSV2vXk/uO/wce0fGmJmt099XY//OIbZv20CtVnY2VnrpRebiv5VExKPAG4CfAP4XjSODd2Tmv622vIUNDw/n6OhoO0uQKvH01Avc8rGvMTNbP9fW31fjS3tuZsvAqjZWpitBRBzKzOHF+i31FNOZbCTJDhpHDh8FVl9OgZLmN3Fy5rxwAJiZrTM5PdOmitSLlhoQ0xFxB/BLwJ8VX2Drq64sqbetX9NPf9/5/zz7+2qsW93fporUi5YaEP8ROA3cmpnP0fh+wu9UVpXU4wbXrmT/zqFzITE3BzG4dmWbK1MvWdIcRKdyDkJXsno9GT9xisnpGdat7mdw7UonqPWSWOocxFKvYnoH8CEa33qO4pGZueayqpQ0r1ot2DKwyklptc2SAgL4MPDzmflklcVIkjrHUucgJgwHSeotSz2CGI2IzwH/m8ZkNQBNy2dIkq4wSw2INcA/AT/X1JaAASFJV6glBURm/krVhUiSOsuCARERv5GZH46I36d86e09lVUmSWqrxY4gVkTEvwT+Hvh/lN+zQZJ0BVosIH4U+CjwOhoh8TfAXwMPZebzFdcmSWqjBQMiM38dICJ+BBgG/jXwq8AnI+KHmXlD9SVKktphqVcxvYzGlUw/WjyOAY9VVZQkqf0Wm6Q+AGwDpoGHaZxi2p+ZP2hBbZKkNlrsm9SvBFYAzwHfo3Hf6B9WXJMkqQMsNgexvbi39DYa8w/vB14fEc/TmKj+rRbUKElqg0XnIIo7yT0eET8E/rF4vBW4ETAgJOkKtdgcxB4aRw43AbMUl7gCd+MktSRd0RY7ghgE/hj4b5l5vPpyJEmdYrE5iL2tKqSV5u7UNXFyhvVrvFOXJJVZ6vcgrhj1enLf4efYOzLGzGz93L1+t2/bYEhIUpOl3jDoijF+4tS5cACYma2zd2SM8ROn2lyZJHWWnguIiZMz58JhzsxsncnpmTZVJEmdqecCYv2afvr7zv9j9/fVWLe6v00VSVJn6rmAGFy7kv07h86FxNwcxODalW2uTJI6S89NUtdqwfZtG3jtnpuZnJ5h3WqvYpKkMj0XENAIiS0Dq9gysKrdpUhSx+q5U0ySpKUxICRJpSoLiIi4OyImI+LxprbfjojvRcRY8bil6b07IuJIRDwVEW+pqi5J0tJUeQTxR8D2kvaPZOZQ8fgSQETcAOyisaz4duDjEXFVhbVJkhZRWUBk5leB55fYfQdwT2aezsxngCM0lhOXJLVJO+Yg3hMRjxanoF5etG0Cnm3qc7Rou0hE3BYRoxExOjU1VXWtktSzWh0QfwC8GhgCjgO/V7SXfQkhyz4gMw9k5nBmDg8MDFRSpCSpxQGRmROZeTYz68AnefE00lFgc1PX64BjraxNknS+lgZERGxsevl2YO4Kp3uBXRGxIiKuB7YCj7SyNknS+Sr7JnVEfBZ4E3BtRBylcf/qN0XEEI3TR+PArwFk5uGIGAGeAM4At2fm2apqkyQtLjJLT/V3heHh4RwdHW13GZLUVSLiUGYOL9avJ9dikrQ83qa3NxkQkhbkbXp7l2sxSVqQt+ntXQaEpAV5m97eZUBIWpC36e1dBoSkBXmb3t7lJLWkBXmb3t5lQEhalLfp7U2eYpIklTIgJEmlDAhJUinnICT1LJcQWZgBIaknuYTI4jzFJKknuYTI4gwIST3JJUQWZ0BI6kkuIbI4A0JST3IJkcU5SS2pJ7mEyOIMCEk9yyVEFuYpJklSKQNCklTKgJAklTIgJEmlDAhJUimvYpLawEXi1A0MCKnFXCRO3cJTTFKLuUicuoUBIbWYi8SpWxgQUou5SJy6hQEhtZiLxKlbVDZJHRF3A28FJjPz9UXbNcDngEFgHNiZmT8o3rsDuBU4C+zJzC9XVZvUTi4Sp25R5RHEHwHbL2jbBzyYmVuBB4vXRMQNwC5gW7HPxyPiqgprk9pqbpG4n9pyLVsGVhkO6kiVBURmfhV4/oLmHcDBYvsg8Lam9nsy83RmPgMcAW6sqjZJ0uJaPQexPjOPAxTP64r2TcCzTf2OFm0XiYjbImI0IkanpqYqLVaSelmnTFKXHV9nWcfMPJCZw5k5PDAwUHFZktS7Wv1N6omI2JiZxyNiIzBZtB8FNjf1uw441uLapK7jkh2qUquPIO4Fdhfbu4EvNrXviogVEXE9sBV4pMW1SV1lbsmOWz72Nd71yYe55WNf477Dz1Gvlx58S8tWWUBExGeBh4Afj4ijEXErcBfwsxHxLeBni9dk5mFgBHgCuA+4PTPPVlWbdCVwyQ5VrbJTTJn5rnneevM8/e8E7qyqHulKs9CSHd5jWS+FTpmklrRMLtmhqhkQUpdyyQ5VzftBSF3KJTtUNQNC6mJzS3Y456AqeIpJklTKgJAklTIgJEmlDAhJUikDQpJUyoCQJJUyICRJpQwISVIpA0KSVMqAkCSVMiAkSaUMCElSKQNCklTKgJAklTIgJEmlDAhJUikDQpJUyoCQJJUyICRJpQwISVKpq9tdgCR1sno9GT9xiomTM6xf08/g2pXUatHuslrCgJCkedTryX2Hn2PvyBgzs3X6+2rs3znE9m0beiIkPMUkSfMYP3HqXDgAzMzW2TsyxviJU22urDUMCEmax8TJmXPhMGdmts7k9EybKmotA0KS5rF+TT/9fef/N9nfV2Pd6v42VdRaBoQkzWNw7Ur27xw6FxJzcxCDa1e2ubLWcJJakuZRqwXbt23gtXtuZnJ6hnWrvYqpchExDkwDZ4EzmTkcEdcAnwMGgXFgZ2b+oB31SdKcWi3YMrCKLQOr2l1Ky7XzFNNPZ+ZQZg4Xr/cBD2bmVuDB4rUkqU06aQ5iB3Cw2D4IvK19pUiS2hUQCdwfEYci4raibX1mHgconteV7RgRt0XEaESMTk1NtahcSeo97Zqkvikzj0XEOuCBiPjmUnfMzAPAAYDh4eGsqkBJ6nVtOYLIzGPF8yTwJ8CNwEREbAQonifbUZskqSEyW/tLeESsBGqZOV1sPwD8D+DNwInMvCsi9gHXZOZvLPJZU8B3LqOca4HvX8b+rdZt9YI1t0q31dxt9cKVVfOrMnNgsZ3bERBbaBw1QOMU12cy886IWAuMAK8Evgu8MzOfr7iW0aarqDpet9UL1twq3VZzt9ULvVlzy+cgMvNp4A0l7SdoHEVIkjpAJ13mKknqIL0eEAfaXcAydVu9YM2t0m01d1u90IM1t3wOQpLUHXr9CEKSNA8DQpJU6ooNiIi4OyImI+LxprZrIuKBiPhW8fzypvfuiIgjEfFURLyl02uOiMGI+OeIGCsen+igmt8ZEYcjoh4Rwxf0b+s4L6feDh/j34mIb0bEoxHxJxHxY03vderf5dKaO3yc/2dR71hE3B8Rr2h6rxP/LpfWe8ljnJlX5AP4N8BPAo83tX0Y2Fds7wM+VGzfAPw9sAK4Hvg2cFWH1zzY3K/Dxvl1wI8DXwGGm9rbPs7LrLeTx/jngKuL7Q91yd/l+Wru5HFe07S9B/hEp4zzMuu9pDG+Yo8gMvOrwIVftJtvxdgdwD2ZeToznwGO0Fj+o6WWWXNHKKs5M5/MzKdKurd9nJdZb0eYp+b7M/NM8fL/AtcV220f46K+5dTcEeap+WTTy5U0FhqFDhjnZdZ7Sa7YgJjHfCvGbgKebep3tGjrBAutcnt9RPxdRPxVRNzcnvKWpZPHeT7dMMa/Cvx5sd0tY9xcM3TwOEfEnRHxLPBu4L8XzR07zvPUC5cwxr0WEPMpu39gp1//exx4ZWa+EdgLfCYi1rS5psV02zh3/BhHxAeBM8Cn55pKunXUGJfU3NHjnJkfzMzNNOp9T9HcseM8T72XNMa9FhDzrRh7FNjc1O864FiLa5tPac3Foe2JYvsQjXOgr2lblUvTyeN8kU4f44jYDbwVeHcWJ5rp8DEuq7nTx7nJZ4BfLLY7epwL5+q91DHutYC4F9hdbO8GvtjUvisiVkTE9cBW4JE21FemtOaIGIiIq4rtLTRqfrotFS5dJ4/zRTp5jCNiO/CbwC9k5j81vdWxYzxfzR0+zlubXv4CMHfvmo4c5/nqveQxbuWse4tn+D9L47Bqlkba3wqspXG/628Vz9c09f8gjVR9Cvj3nV4zjd8MDtO4kuIbwM93UM1vL7ZPAxPAlztlnJdTb4eP8REa58DHiscnOmWMl1tzh4/z54HHgUeBPwU2dco4L6feSx1jl9qQJJXqtVNMkqQlMiAkSaUMCElSKQNCklTKgJAklTIgpEJEnC1Wunw8Iv60eYXUS/isD1zw+m8uu0CpxbzMVSpExAuZuarYPgj8Q2beebmfJXUrjyCkcg9RLL4WEV+Zu09ERFwbEePF9n+KiC9ExH3RuF/Hh4v2u4CXFUcjny7aXiie31QsljYSEf8QEXdFxLsj4pGIeCwiXl30G4iIz0fE3xaPm1o+Aup5V7e7AKnTFEsSvBn41BK6DwFvpPEt7Kci4vczc19EvCczh+bZ5w007kHxPI3lDv4wM2+MiPcC/xV4H/BR4COZ+fWIeCXw5WIfqWUMCOlFL4uIMRo3VzkEPLCEfR7MzH8EiIgngFdx/jLQZf42iyXcI+LbwP1F+2PATxfbPwPcEHFu0dA1EbE6M6eX9keRLp+nmKQX/XPxW/+rgB8Bbi/az/Div5X+C/Y53bR9lqX90tW8T73pdb1p/xrwrzJzqHhsMhzUagaEdIHiiGAP8OsR0QeMA/+iePs/LPFjZot9L9X9vLiWPxExdBmfJV0SA0IqkZl/R2Ply13A7wL/pbhU9dolfsQB4NG5SepLsAcYLm5A/wTwny/xc6RL5mWukqRSHkFIkkoZEJKkUgaEJKmUASFJKmVASJJKGRCSpFIGhCSp1P8HcKALMEC7K8cAAAAASUVORK5CYII=\n",
      "text/plain": [
       "<Figure size 432x288 with 1 Axes>"
      ]
     },
     "metadata": {
      "needs_background": "light"
     },
     "output_type": "display_data"
    }
   ],
   "source": [
    "sns.scatterplot(x='Runtime', y='Wins', data=data)"
   ]
  },
  {
   "cell_type": "code",
   "execution_count": 47,
   "id": "bece477e",
   "metadata": {},
   "outputs": [
    {
     "name": "stdout",
     "output_type": "stream",
     "text": [
      "0.11770989138924326\n"
     ]
    }
   ],
   "source": [
    "print(data['Runtime'].corr(data['Wins']))"
   ]
  },
  {
   "cell_type": "markdown",
   "id": "8e72ce0a",
   "metadata": {},
   "source": [
    "Question3: To evaluate the relationship between runtime and awards won, a scatter plot was created. Visually, we can see that the trend line would be near flat, demonstrating a very weak to no relationship between the two variables. Next, a correlational analysis was run to generate the r-value. This confirms what was seen in the scatter plot. R= .12. R-values range from negative 1 to positive 1, with the strongest relationship closer to one on both sides. The relationship of .12 is closer to 0, which would signify no relationship between the variables. Thus, longer or shorter runtime and has no significant impact on awards won, and conversely (because correlation is not directional), the awards run is not base on how long the movie is. "
   ]
  },
  {
   "cell_type": "code",
   "execution_count": 50,
   "id": "f51a85ed",
   "metadata": {},
   "outputs": [
    {
     "data": {
      "image/png": "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\n",
      "text/plain": [
       "<Figure size 432x288 with 1 Axes>"
      ]
     },
     "metadata": {
      "needs_background": "light"
     },
     "output_type": "display_data"
    }
   ],
   "source": [
    "noms_wins = data[['Title', 'Nominations', 'Wins']]\n",
    "\n",
    "x = noms_wins.groupby(['Title']).sum()\n",
    "x_ind=x.reset_index()\n",
    "x_ind.set_index('Title').plot(kind='bar', stacked=True, color=['yellow', 'blue'])\n",
    "\n",
    "plt.xlabel('Movie')\n",
    "plt.ylabel('Count of Nominations and Wins')\n",
    "plt.title('Nominations and Wins', fontsize=16)\n",
    "plt.show()"
   ]
  },
  {
   "cell_type": "code",
   "execution_count": 64,
   "id": "fa78ed16",
   "metadata": {},
   "outputs": [
    {
     "data": {
      "text/html": [
       "<div>\n",
       "<style scoped>\n",
       "    .dataframe tbody tr th:only-of-type {\n",
       "        vertical-align: middle;\n",
       "    }\n",
       "\n",
       "    .dataframe tbody tr th {\n",
       "        vertical-align: top;\n",
       "    }\n",
       "\n",
       "    .dataframe thead th {\n",
       "        text-align: right;\n",
       "    }\n",
       "</style>\n",
       "<table border=\"1\" class=\"dataframe\">\n",
       "  <thead>\n",
       "    <tr style=\"text-align: right;\">\n",
       "      <th></th>\n",
       "      <th>Nominations</th>\n",
       "      <th>Wins</th>\n",
       "    </tr>\n",
       "    <tr>\n",
       "      <th>Title</th>\n",
       "      <th></th>\n",
       "      <th></th>\n",
       "    </tr>\n",
       "  </thead>\n",
       "  <tbody>\n",
       "    <tr>\n",
       "      <th>12 Years a Slave</th>\n",
       "      <td>336</td>\n",
       "      <td>242</td>\n",
       "    </tr>\n",
       "    <tr>\n",
       "      <th>Argo</th>\n",
       "      <td>156</td>\n",
       "      <td>94</td>\n",
       "    </tr>\n",
       "    <tr>\n",
       "      <th>Birdman or (The Unexpected Virtue of Ignorance)</th>\n",
       "      <td>292</td>\n",
       "      <td>193</td>\n",
       "    </tr>\n",
       "    <tr>\n",
       "      <th>Green Book</th>\n",
       "      <td>124</td>\n",
       "      <td>59</td>\n",
       "    </tr>\n",
       "    <tr>\n",
       "      <th>Moonlight</th>\n",
       "      <td>296</td>\n",
       "      <td>228</td>\n",
       "    </tr>\n",
       "    <tr>\n",
       "      <th>Parasite</th>\n",
       "      <td>271</td>\n",
       "      <td>308</td>\n",
       "    </tr>\n",
       "    <tr>\n",
       "      <th>Spotlight</th>\n",
       "      <td>143</td>\n",
       "      <td>124</td>\n",
       "    </tr>\n",
       "    <tr>\n",
       "      <th>The Artist</th>\n",
       "      <td>204</td>\n",
       "      <td>162</td>\n",
       "    </tr>\n",
       "    <tr>\n",
       "      <th>The King's Speech</th>\n",
       "      <td>206</td>\n",
       "      <td>108</td>\n",
       "    </tr>\n",
       "    <tr>\n",
       "      <th>The Shape of Water</th>\n",
       "      <td>358</td>\n",
       "      <td>138</td>\n",
       "    </tr>\n",
       "  </tbody>\n",
       "</table>\n",
       "</div>"
      ],
      "text/plain": [
       "                                                 Nominations  Wins\n",
       "Title                                                             \n",
       "12 Years a Slave                                         336   242\n",
       "Argo                                                     156    94\n",
       "Birdman or (The Unexpected Virtue of Ignorance)          292   193\n",
       "Green Book                                               124    59\n",
       "Moonlight                                                296   228\n",
       "Parasite                                                 271   308\n",
       "Spotlight                                                143   124\n",
       "The Artist                                               204   162\n",
       "The King's Speech                                        206   108\n",
       "The Shape of Water                                       358   138"
      ]
     },
     "execution_count": 64,
     "metadata": {},
     "output_type": "execute_result"
    }
   ],
   "source": [
    "noms_wins = data[['Title', 'Nominations', 'Wins']]\n",
    "\n",
    "x = noms_wins.groupby(['Title']).sum()\n",
    "x"
   ]
  },
  {
   "cell_type": "code",
   "execution_count": 62,
   "id": "69e10552",
   "metadata": {},
   "outputs": [
    {
     "data": {
      "text/plain": [
       "[0    579\n",
       " 1    183\n",
       " 2    496\n",
       " 3    524\n",
       " 4    267\n",
       " 5    485\n",
       " 6    578\n",
       " 7    250\n",
       " 8    366\n",
       " 9    314\n",
       " dtype: int64]"
      ]
     },
     "execution_count": 62,
     "metadata": {},
     "output_type": "execute_result"
    }
   ],
   "source": [
    "sum = [(data['Nominations'] + data['Wins'])]\n",
    "sum"
   ]
  },
  {
   "cell_type": "markdown",
   "id": "a95c05fe",
   "metadata": {},
   "source": [
    "Question 4: How many awards and nominations did each movie receive? \n",
    "To answer this, I created a table of nominations and wins. I added the two columns together to get a total for each movie. I also created a stacked bar chart as a graphical representation of wins and nominations for each movie.\n",
    "\n",
    "Total Award Wins and Nominations for each Title\n",
    "\n",
    "579\tParasite\n",
    "\n",
    "183\tGreen Book\n",
    "\n",
    "496\tThe Shape of Water\n",
    "\n",
    "524\tMoonlight\n",
    "\n",
    "267\tSpotlight\n",
    "\n",
    "485\tBirdman or (The Unexpected Virtue of Ignorance)\n",
    "\n",
    "578\t12 Years a Slave\n",
    "\n",
    "250\tArgo\n",
    "\n",
    "366\tThe Artist\n",
    "\n",
    "314\tThe King's Speech\n",
    "\n",
    "I will include both a stacked and side-by-side analysis (bar graphs) in my presentation in Google Sheets. "
   ]
  },
  {
   "cell_type": "markdown",
   "id": "70c10162",
   "metadata": {},
   "source": [
    "google drive link:\n",
    "    
   ]
  }
 ],
 "metadata": {
  "kernelspec": {
   "display_name": "Python 3 (ipykernel)",
   "language": "python",
   "name": "python3"
  },
  "language_info": {
   "codemirror_mode": {
    "name": "ipython",
    "version": 3
   },
   "file_extension": ".py",
   "mimetype": "text/x-python",
   "name": "python",
   "nbconvert_exporter": "python",
   "pygments_lexer": "ipython3",
   "version": "3.9.7"
  }
 },
 "nbformat": 4,
 "nbformat_minor": 5
}
